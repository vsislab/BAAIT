{
 "cells": [
  {
   "cell_type": "markdown",
   "id": "f75bef5a",
   "metadata": {},
   "source": [
    "**2.1 感知机模型**"
   ]
  },
  {
   "cell_type": "markdown",
   "id": "7c5ef347",
   "metadata": {},
   "source": [
    "逻辑“与”功能"
   ]
  },
  {
   "cell_type": "code",
   "execution_count": 1,
   "id": "3fce424a",
   "metadata": {},
   "outputs": [],
   "source": [
    "import numpy as np"
   ]
  },
  {
   "cell_type": "code",
   "execution_count": 2,
   "id": "5749db07",
   "metadata": {},
   "outputs": [],
   "source": [
    "def AND(x1, x2):\n",
    "    x = np.array([x1, x2])\n",
    "    w = np.array([0.5, 0.5])\n",
    "    b = -0.7\n",
    "    tmp = np.sum(w*x) + b\n",
    "    if tmp <= 0:\n",
    "        return 0\n",
    "    else:\n",
    "        return 1"
   ]
  },
  {
   "cell_type": "code",
   "execution_count": 3,
   "id": "6fdc7d2e",
   "metadata": {},
   "outputs": [
    {
     "name": "stdout",
     "output_type": "stream",
     "text": [
      "输入[0, 0]时， 结果为 0\n",
      "输入[0, 1]时， 结果为 0\n",
      "输入[1, 0]时， 结果为 0\n",
      "输入[1, 1]时， 结果为 1\n"
     ]
    }
   ],
   "source": [
    "print(\"输入[0, 0]时， 结果为\",format(AND(0,0)))\n",
    "print(\"输入[0, 1]时， 结果为\",format(AND(0,1)))\n",
    "print(\"输入[1, 0]时， 结果为\",format(AND(1,0)))\n",
    "print(\"输入[1, 1]时， 结果为\",format(AND(1,1)))"
   ]
  },
  {
   "cell_type": "markdown",
   "id": "1e0d9a9b",
   "metadata": {},
   "source": [
    "逻辑“或”功能"
   ]
  },
  {
   "cell_type": "code",
   "execution_count": 4,
   "id": "ecc651bd",
   "metadata": {},
   "outputs": [],
   "source": [
    "def OR(x1, x2):\n",
    "    x = np.array([x1, x2])\n",
    "    w = np.array([0.5, 0.5])\n",
    "    b = -0.2\n",
    "    tmp = np.sum(w*x) + b\n",
    "    if tmp <= 0:\n",
    "        return 0\n",
    "    else:\n",
    "        return 1"
   ]
  },
  {
   "cell_type": "code",
   "execution_count": 5,
   "id": "dd13dc92",
   "metadata": {},
   "outputs": [
    {
     "name": "stdout",
     "output_type": "stream",
     "text": [
      "输入[0, 0]时， 结果为 0\n",
      "输入[0, 1]时， 结果为 1\n",
      "输入[1, 0]时， 结果为 1\n",
      "输入[1, 1]时， 结果为 1\n"
     ]
    }
   ],
   "source": [
    "print(\"输入[0, 0]时， 结果为\",format(OR(0,0)))\n",
    "print(\"输入[0, 1]时， 结果为\",format(OR(0,1)))\n",
    "print(\"输入[1, 0]时， 结果为\",format(OR(1,0)))\n",
    "print(\"输入[1, 1]时， 结果为\",format(OR(1,1)))"
   ]
  },
  {
   "cell_type": "markdown",
   "id": "b0a904d7",
   "metadata": {},
   "source": [
    "逻辑“与非”操作"
   ]
  },
  {
   "cell_type": "code",
   "execution_count": 6,
   "id": "4872d73c",
   "metadata": {},
   "outputs": [],
   "source": [
    "def NAND(x1, x2):\n",
    "    x = np.array([x1, x2])\n",
    "    w = np.array([-0.5, -0.5])\n",
    "    b = 0.7\n",
    "    tmp = np.sum(w*x) + b\n",
    "    if tmp <= 0:\n",
    "        return 0\n",
    "    else:\n",
    "        return 1"
   ]
  },
  {
   "cell_type": "code",
   "execution_count": 7,
   "id": "67dd4394",
   "metadata": {},
   "outputs": [
    {
     "name": "stdout",
     "output_type": "stream",
     "text": [
      "输入[0, 0]时， 结果为 1\n",
      "输入[0, 1]时， 结果为 1\n",
      "输入[1, 0]时， 结果为 1\n",
      "输入[1, 1]时， 结果为 0\n"
     ]
    }
   ],
   "source": [
    "print(\"输入[0, 0]时， 结果为\",format(NAND(0,0)))\n",
    "print(\"输入[0, 1]时， 结果为\",format(NAND(0,1)))\n",
    "print(\"输入[1, 0]时， 结果为\",format(NAND(1,0)))\n",
    "print(\"输入[1, 1]时， 结果为\",format(NAND(1,1)))"
   ]
  },
  {
   "cell_type": "markdown",
   "id": "014d6aa5",
   "metadata": {},
   "source": [
    "逻辑“异或”操作"
   ]
  },
  {
   "cell_type": "code",
   "execution_count": 8,
   "id": "6375dab7",
   "metadata": {},
   "outputs": [],
   "source": [
    "def XOR(x1, x2):\n",
    "    s1 = NAND(x1, x2)\n",
    "    s2 = OR(x1, x2)\n",
    "    y = AND(s1, s2)\n",
    "    return y"
   ]
  },
  {
   "cell_type": "code",
   "execution_count": 9,
   "id": "dc6cdc30",
   "metadata": {},
   "outputs": [
    {
     "name": "stdout",
     "output_type": "stream",
     "text": [
      "输入[0, 0]时， 结果为 0\n",
      "输入[0, 1]时， 结果为 1\n",
      "输入[1, 0]时， 结果为 1\n",
      "输入[1, 1]时， 结果为 0\n"
     ]
    }
   ],
   "source": [
    "print(\"输入[0, 0]时， 结果为\",format(XOR(0,0)))\n",
    "print(\"输入[0, 1]时， 结果为\",format(XOR(0,1)))\n",
    "print(\"输入[1, 0]时， 结果为\",format(XOR(1,0)))\n",
    "print(\"输入[1, 1]时， 结果为\",format(XOR(1,1)))"
   ]
  },
  {
   "cell_type": "markdown",
   "id": "5e659d12",
   "metadata": {},
   "source": [
    "**2.2 神经网络的架构**"
   ]
  },
  {
   "cell_type": "markdown",
   "id": "50d7e365",
   "metadata": {},
   "source": [
    "ReLU, sigmoid, softmax函数实现"
   ]
  },
  {
   "cell_type": "code",
   "execution_count": 10,
   "id": "3a02c57f",
   "metadata": {},
   "outputs": [],
   "source": [
    "def relu(x):\n",
    "    return np.maximum(0, x)\n",
    "\n",
    "def sigmoid(x):\n",
    "    return 1 / (1 + np.exp(-x))    \n",
    "\n",
    "def softmax(x):\n",
    "    if x.ndim == 2:\n",
    "        x = x.T\n",
    "        x = x - np.max(x, axis=0)\n",
    "        y = np.exp(x) / np.sum(np.exp(x), axis=0)\n",
    "        return y.T \n",
    "\n",
    "    x = x - np.max(x) # 溢出对策\n",
    "    return np.exp(x) / np.sum(np.exp(x))"
   ]
  },
  {
   "cell_type": "markdown",
   "id": "1c662d91",
   "metadata": {},
   "source": [
    "**2.3 神经网络原理**"
   ]
  },
  {
   "cell_type": "markdown",
   "id": "6ce755a3",
   "metadata": {},
   "source": [
    "均方误差损失函数"
   ]
  },
  {
   "cell_type": "code",
   "execution_count": 11,
   "id": "949a5ceb",
   "metadata": {},
   "outputs": [
    {
     "data": {
      "text/plain": [
       "0.09750000000000003"
      ]
     },
     "execution_count": 11,
     "metadata": {},
     "output_type": "execute_result"
    }
   ],
   "source": [
    "y = np.array([0.1, 0.05, 0.6, 0.0, 0.05, 0.1, 0.0, 0.1, 0.0, 0.0])\n",
    "t = np.array([0, 0, 1, 0, 0, 0, 0, 0, 0, 0])\n",
    "\n",
    "def mean_squared_error(y, t):\n",
    "    return 0.5 * np.sum((y-t)**2)\n",
    "\n",
    "mean_squared_error(y, t)"
   ]
  },
  {
   "cell_type": "code",
   "execution_count": null,
   "id": "1d3223c0",
   "metadata": {},
   "outputs": [],
   "source": []
  },
  {
   "cell_type": "markdown",
   "id": "8eb26889",
   "metadata": {},
   "source": [
    "交叉熵损失函数"
   ]
  },
  {
   "cell_type": "code",
   "execution_count": 12,
   "id": "96bb8105",
   "metadata": {},
   "outputs": [
    {
     "data": {
      "text/plain": [
       "0.510825457099338"
      ]
     },
     "execution_count": 12,
     "metadata": {},
     "output_type": "execute_result"
    }
   ],
   "source": [
    "def cross_entropy_error(y, t):\n",
    "    delta = 1e-7\n",
    "    return -np.sum(t * np.log(y + delta))\n",
    "\n",
    "cross_entropy_error(y, t)"
   ]
  },
  {
   "cell_type": "markdown",
   "id": "a4bf6f32",
   "metadata": {},
   "source": [
    "当输出为独热编码时，交叉熵损失函数实现为"
   ]
  },
  {
   "cell_type": "code",
   "execution_count": 13,
   "id": "43ef3166",
   "metadata": {},
   "outputs": [],
   "source": [
    "def cross_entropy_error(y, t):\n",
    "    if y.ndim == 1:\n",
    "        t = t.reshape(1, t.size)\n",
    "        y = y.reshape(1, y.size)\n",
    "        \n",
    "    # 监督数据是one-hot-vector的情况下，转换为正确解标签的索引\n",
    "    if t.size == y.size:\n",
    "        t = t.argmax(axis=1)\n",
    "             \n",
    "    batch_size = y.shape[0]\n",
    "    return -np.sum(np.log(y[np.arange(batch_size), t] + 1e-7)) / batch_size"
   ]
  },
  {
   "cell_type": "markdown",
   "id": "d4656293",
   "metadata": {},
   "source": [
    "数值微分实现为"
   ]
  },
  {
   "cell_type": "code",
   "execution_count": 14,
   "id": "7e7d247c",
   "metadata": {},
   "outputs": [],
   "source": [
    "def numerical_diff(f, x):\n",
    "    h = 1e-4\n",
    "    return (f(x+h) - f(x-h)) /(2* h)"
   ]
  },
  {
   "cell_type": "markdown",
   "id": "d6584823",
   "metadata": {},
   "source": [
    "对于多维数据来说，梯度是由各变量的偏微分值组成的向量来表示的，梯度的数值计算实现为"
   ]
  },
  {
   "cell_type": "code",
   "execution_count": 15,
   "id": "a7fea354",
   "metadata": {},
   "outputs": [],
   "source": [
    "def _numerical_gradient_1d(f, x):\n",
    "    h = 1e-4 # 0.0001\n",
    "    grad = np.zeros_like(x) # 生成和x形状相同的数组\n",
    "    for idx in range(x.size):\n",
    "        tmp_val = x[idx]\n",
    "        # f(x+h)的计算\n",
    "        x[idx] = tmp_val + h\n",
    "        fxh1 = f(x)\n",
    "        # f(x-h)的计算\n",
    "        x[idx] = tmp_val - h\n",
    "        fxh2 = f(x)\n",
    "        grad[idx] = (fxh1 - fxh2) / (2*h)\n",
    "        x[idx] = tmp_val # 还原值\n",
    "    return grad"
   ]
  },
  {
   "cell_type": "markdown",
   "id": "6d051c78",
   "metadata": {},
   "source": [
    "有了数值计算法，我们就可以根据损失函数来计算其对于网络参数的梯度，并根据梯度值更新网络参数。其实现代码如下"
   ]
  },
  {
   "cell_type": "code",
   "execution_count": 16,
   "id": "f7e73bbe",
   "metadata": {},
   "outputs": [],
   "source": [
    "def gradient_descent(f, init_x, lr=0.01, step_num=100):\n",
    "    x = init_x\n",
    "    for i in range(step_num):\n",
    "        grad = _numerical_gradient_1d(f, x)\n",
    "        x -= lr * grad\n",
    "    return x"
   ]
  },
  {
   "cell_type": "markdown",
   "id": "0b01ffd0",
   "metadata": {},
   "source": [
    "例：请用梯度法求$$f(x_0+x_1)=x_0^2+x_1^2$$的最小值"
   ]
  },
  {
   "cell_type": "code",
   "execution_count": 17,
   "id": "97e71d2b",
   "metadata": {},
   "outputs": [
    {
     "name": "stdout",
     "output_type": "stream",
     "text": [
      "[-6.11110793e-10  8.14814391e-10]\n"
     ]
    }
   ],
   "source": [
    "def function_2(x):\n",
    "    return x[0]**2 + x[1]**2\n",
    "init_x = np.array([-3.0, 4.0])\n",
    "result=gradient_descent(function_2, init_x=init_x, lr=0.1, step_num=100)\n",
    "print(result)"
   ]
  },
  {
   "cell_type": "markdown",
   "id": "3c4bb28d",
   "metadata": {},
   "source": [
    "这与真实的最优解[0,0]非常接近，在误差允许范围内"
   ]
  },
  {
   "cell_type": "markdown",
   "id": "a3068b61",
   "metadata": {},
   "source": [
    "下面，我们设计代码实现神经网络的梯度下降。\n",
    "首先定义一个简单的神经网络，并使用随机数初始化其连接权重。"
   ]
  },
  {
   "cell_type": "code",
   "execution_count": 18,
   "id": "caba29fd",
   "metadata": {},
   "outputs": [],
   "source": [
    "class simpleNet:\n",
    "    def __init__(self):\n",
    "        self.W = np.random.randn(2,3) # 用高斯分布进行初始化\n",
    "    def predict(self, x):\n",
    "        return np.dot(x, self.W)\n",
    "    def loss(self, x, t):\n",
    "        z = self.predict(x)\n",
    "        y = softmax(z)\n",
    "        loss = cross_entropy_error(y, t)\n",
    "        return loss"
   ]
  },
  {
   "cell_type": "markdown",
   "id": "be7794e9",
   "metadata": {},
   "source": [
    "前面介绍的数值梯度计算函数是针对1维数据的，我们将其改名为_numerical_gradient_1d()，下面基于其拓展针对二维数据的实现版本"
   ]
  },
  {
   "cell_type": "code",
   "execution_count": 19,
   "id": "3e8e4511",
   "metadata": {},
   "outputs": [],
   "source": [
    "def numerical_gradient(f, x):\n",
    "    h = 1e-4 # 0.0001\n",
    "    grad = np.zeros_like(x)\n",
    "    \n",
    "    it = np.nditer(x, flags=['multi_index'], op_flags=['readwrite'])\n",
    "    while not it.finished:\n",
    "        idx = it.multi_index\n",
    "        tmp_val = x[idx]\n",
    "        x[idx] = float(tmp_val) + h\n",
    "        fxh1 = f(x) # f(x+h)\n",
    "        \n",
    "        x[idx] = tmp_val - h \n",
    "        fxh2 = f(x) # f(x-h)\n",
    "        grad[idx] = (fxh1 - fxh2) / (2*h)\n",
    "        \n",
    "        x[idx] = tmp_val # 还原值\n",
    "        it.iternext()   \n",
    "        \n",
    "    return grad"
   ]
  },
  {
   "cell_type": "markdown",
   "id": "029279af",
   "metadata": {},
   "source": [
    "下面，定义该网络实例net，并给出输入数据x和监督数据t"
   ]
  },
  {
   "cell_type": "code",
   "execution_count": 20,
   "id": "2310db9f",
   "metadata": {},
   "outputs": [
    {
     "name": "stdout",
     "output_type": "stream",
     "text": [
      "[[ 0.56283954  1.22348394  1.34334458]\n",
      " [ 0.12923979 -1.2392262   1.12043825]]\n",
      "0.31324222630936577\n"
     ]
    }
   ],
   "source": [
    "net = simpleNet()\n",
    "print(net.W)\n",
    "x = np.array([0.6, 0.9])\n",
    "t = np.array([0, 0, 1]) # 正确解标签\n",
    "print(net.loss(x, t))"
   ]
  },
  {
   "cell_type": "markdown",
   "id": "972726aa",
   "metadata": {},
   "source": [
    "接下来，定义网络的损失函数为f，并计算其梯度"
   ]
  },
  {
   "cell_type": "code",
   "execution_count": 21,
   "id": "81594eff",
   "metadata": {},
   "outputs": [
    {
     "name": "stdout",
     "output_type": "stream",
     "text": [
      "[[ 0.11253964  0.04881671 -0.16135635]\n",
      " [ 0.16880946  0.07322507 -0.24203453]]\n"
     ]
    }
   ],
   "source": [
    "f = lambda w: net.loss(x, t)\n",
    "dW = numerical_gradient(f, net.W)\n",
    "print(dW)"
   ]
  },
  {
   "cell_type": "markdown",
   "id": "91d1bb1c",
   "metadata": {},
   "source": [
    "设定学习率lr=0.1，使网络进行学习迭代，可以看到损失下降"
   ]
  },
  {
   "cell_type": "code",
   "execution_count": 22,
   "id": "799d4fab",
   "metadata": {},
   "outputs": [
    {
     "name": "stdout",
     "output_type": "stream",
     "text": [
      "0.3001345891671264\n",
      "0.2875082518767296\n",
      "0.275350965031663\n",
      "0.2636503777100387\n",
      "0.25239407308537903\n"
     ]
    }
   ],
   "source": [
    "lr=0.1\n",
    "for i in range(5):\n",
    "    net.W=net.W-dW*lr\n",
    "    print(net.loss(x, t))"
   ]
  },
  {
   "cell_type": "markdown",
   "id": "7d189210",
   "metadata": {},
   "source": [
    "**2.4 神经网络学习实践**"
   ]
  },
  {
   "cell_type": "markdown",
   "id": "ae5b1362",
   "metadata": {},
   "source": [
    "针对前面的手写数字识别的问题，我们构造如下的神经网络类。类中封装了初始化函数__init__()、推理函数predict()、损失函数loss()、准确率计算函数accuracy()、和梯度计算函数numerrical_gradient()"
   ]
  },
  {
   "cell_type": "code",
   "execution_count": null,
   "id": "783e2bc3",
   "metadata": {},
   "outputs": [],
   "source": [
    "class TwoLayerNet:\n",
    "\n",
    "    def __init__(self, input_size, hidden_size, output_size, weight_init_std=0.01):\n",
    "        # 初始化权重\n",
    "        self.params = {}\n",
    "        self.params['W1'] = weight_init_std * np.random.randn(input_size, hidden_size)\n",
    "        self.params['b1'] = np.zeros(hidden_size)\n",
    "        self.params['W2'] = weight_init_std * np.random.randn(hidden_size, output_size)\n",
    "        self.params['b2'] = np.zeros(output_size)\n",
    "\n",
    "    def predict(self, x):\n",
    "        W1, W2 = self.params['W1'], self.params['W2']\n",
    "        b1, b2 = self.params['b1'], self.params['b2']\n",
    "    \n",
    "        a1 = np.dot(x, W1) + b1\n",
    "        z1 = sigmoid(a1)\n",
    "        a2 = np.dot(z1, W2) + b2\n",
    "        y = softmax(a2)\n",
    "        \n",
    "        return y\n",
    "        \n",
    "    # x:输入数据, t:监督数据\n",
    "    def loss(self, x, t):\n",
    "        y = self.predict(x)\n",
    "        \n",
    "        return cross_entropy_error(y, t)\n",
    "    \n",
    "    def accuracy(self, x, t):\n",
    "        y = self.predict(x)\n",
    "        y = np.argmax(y, axis=1)\n",
    "        t = np.argmax(t, axis=1)\n",
    "        \n",
    "        accuracy = np.sum(y == t) / float(x.shape[0])\n",
    "        return accuracy\n",
    "        \n",
    "    # x:输入数据, t:监督数据\n",
    "    def numerical_gradient(self, x, t):\n",
    "        loss_W = lambda W: self.loss(x, t)\n",
    "        \n",
    "        grads = {}\n",
    "        grads['W1'] = numerical_gradient(loss_W, self.params['W1'])\n",
    "        grads['b1'] = numerical_gradient(loss_W, self.params['b1'])\n",
    "        grads['W2'] = numerical_gradient(loss_W, self.params['W2'])\n",
    "        grads['b2'] = numerical_gradient(loss_W, self.params['b2'])\n",
    "        \n",
    "        return grads\n",
    "        \n",
    "    def gradient(self, x, t):\n",
    "        W1, W2 = self.params['W1'], self.params['W2']\n",
    "        b1, b2 = self.params['b1'], self.params['b2']\n",
    "        grads = {}\n",
    "        \n",
    "        batch_num = x.shape[0]\n",
    "        \n",
    "        # forward\n",
    "        a1 = np.dot(x, W1) + b1\n",
    "        z1 = sigmoid(a1)\n",
    "        a2 = np.dot(z1, W2) + b2\n",
    "        y = softmax(a2)\n",
    "        \n",
    "        # backward\n",
    "        dy = (y - t) / batch_num\n",
    "        grads['W2'] = np.dot(z1.T, dy)\n",
    "        grads['b2'] = np.sum(dy, axis=0)\n",
    "        \n",
    "        da1 = np.dot(dy, W2.T)\n",
    "        dz1 = sigmoid_grad(a1) * da1\n",
    "        grads['W1'] = np.dot(x.T, dz1)\n",
    "        grads['b1'] = np.sum(dz1, axis=0)\n",
    "\n",
    "        return grads\n",
    "    \n",
    "def sigmoid_grad(x):\n",
    "    return (1.0 - sigmoid(x)) * sigmoid(x)"
   ]
  },
  {
   "cell_type": "markdown",
   "id": "419a1007",
   "metadata": {},
   "source": [
    "前面的numerical_gradient()求导函数可以使用下面的反向传播求导函数gradient()来代替"
   ]
  },
  {
   "cell_type": "markdown",
   "id": "dda8e80b",
   "metadata": {},
   "source": [
    "先下载数据集"
   ]
  },
  {
   "cell_type": "code",
   "execution_count": null,
   "id": "08d7aeac",
   "metadata": {},
   "outputs": [],
   "source": [
    "from mnist import init_mnist, load_mnist\n",
    "\n",
    "init_mnist()"
   ]
  },
  {
   "cell_type": "markdown",
   "id": "a967ed3d",
   "metadata": {},
   "source": [
    "读入数据，并设定超参数"
   ]
  },
  {
   "cell_type": "code",
   "execution_count": null,
   "id": "37042735",
   "metadata": {},
   "outputs": [],
   "source": [
    "(x_train, t_train), (x_test, t_test) = load_mnist(normalize=True, one_hot_label=True)\n",
    "\n",
    "network = TwoLayerNet(input_size=784, hidden_size=50, output_size=10)\n",
    "\n",
    "iters_num = 10000  # 适当设定循环的次数\n",
    "train_size = x_train.shape[0]\n",
    "batch_size = 100\n",
    "learning_rate = 0.1"
   ]
  },
  {
   "cell_type": "markdown",
   "id": "d5268013",
   "metadata": {},
   "source": [
    "训练并可视化训练过程"
   ]
  },
  {
   "cell_type": "code",
   "execution_count": null,
   "id": "e9048cba",
   "metadata": {},
   "outputs": [],
   "source": [
    "import matplotlib.pyplot as plt\n",
    "train_loss_list = []\n",
    "train_acc_list = []\n",
    "test_acc_list = []\n",
    "\n",
    "iter_per_epoch = max(train_size / batch_size, 1)\n",
    "\n",
    "for i in range(iters_num):\n",
    "    batch_mask = np.random.choice(train_size, batch_size)\n",
    "    x_batch = x_train[batch_mask]\n",
    "    t_batch = t_train[batch_mask]\n",
    "    \n",
    "    # 计算梯度\n",
    "    #grad = network.numerical_gradient(x_batch, t_batch)\n",
    "    grad = network.gradient(x_batch, t_batch)\n",
    "    \n",
    "    # 更新参数\n",
    "    for key in ('W1', 'b1', 'W2', 'b2'):\n",
    "        network.params[key] -= learning_rate * grad[key]\n",
    "    \n",
    "    loss = network.loss(x_batch, t_batch)\n",
    "    train_loss_list.append(loss)\n",
    "    \n",
    "    if i % iter_per_epoch == 0:\n",
    "        train_acc = network.accuracy(x_train, t_train)\n",
    "        test_acc = network.accuracy(x_test, t_test)\n",
    "        train_acc_list.append(train_acc)\n",
    "        test_acc_list.append(test_acc)\n",
    "        print(\"train acc, test acc | \" + str(train_acc) + \", \" + str(test_acc))\n",
    "\n",
    "# 绘制图形\n",
    "markers = {'train': 'o', 'test': 's'}\n",
    "x = np.arange(len(train_acc_list))\n",
    "plt.plot(x, train_acc_list, label='train acc')\n",
    "plt.plot(x, test_acc_list, label='test acc', linestyle='--')\n",
    "plt.xlabel(\"epochs\")\n",
    "plt.ylabel(\"accuracy\")\n",
    "plt.ylim(0, 1.0)\n",
    "plt.legend(loc='lower right')\n",
    "plt.show()"
   ]
  },
  {
   "cell_type": "markdown",
   "id": "b715db91",
   "metadata": {},
   "source": [
    "**2.5 神经网络学习技巧**"
   ]
  },
  {
   "cell_type": "markdown",
   "id": "e3b17a0b",
   "metadata": {},
   "source": [
    "批量归一化实现"
   ]
  },
  {
   "cell_type": "code",
   "execution_count": null,
   "id": "79a25e80",
   "metadata": {},
   "outputs": [],
   "source": [
    "class BatchNormalization:\n",
    "    \"\"\"\n",
    "    http://arxiv.org/abs/1502.03167\n",
    "    \"\"\"\n",
    "    def __init__(self, gamma, beta, momentum=0.9, running_mean=None, running_var=None):\n",
    "        self.gamma = gamma\n",
    "        self.beta = beta\n",
    "        self.momentum = momentum\n",
    "        self.input_shape = None # Conv层的情况下为4维，全连接层的情况下为2维  \n",
    "\n",
    "        # 测试时使用的平均值和方差\n",
    "        self.running_mean = running_mean\n",
    "        self.running_var = running_var  \n",
    "        \n",
    "        # backward时使用的中间数据\n",
    "        self.batch_size = None\n",
    "        self.xc = None\n",
    "        self.std = None\n",
    "        self.dgamma = None\n",
    "        self.dbeta = None\n",
    "\n",
    "    def forward(self, x, train_flg=True):\n",
    "        self.input_shape = x.shape\n",
    "        if x.ndim != 2:\n",
    "            N, C, H, W = x.shape\n",
    "            x = x.reshape(N, -1)\n",
    "\n",
    "        out = self.__forward(x, train_flg)\n",
    "        \n",
    "        return out.reshape(*self.input_shape)\n",
    "            \n",
    "    def __forward(self, x, train_flg):\n",
    "        if self.running_mean is None:\n",
    "            N, D = x.shape\n",
    "            self.running_mean = np.zeros(D)\n",
    "            self.running_var = np.zeros(D)\n",
    "                        \n",
    "        if train_flg:\n",
    "            mu = x.mean(axis=0)\n",
    "            xc = x - mu\n",
    "            var = np.mean(xc**2, axis=0)\n",
    "            std = np.sqrt(var + 10e-7)\n",
    "            xn = xc / std\n",
    "            \n",
    "            self.batch_size = x.shape[0]\n",
    "            self.xc = xc\n",
    "            self.xn = xn\n",
    "            self.std = std\n",
    "            self.running_mean = self.momentum * self.running_mean + (1-self.momentum) * mu\n",
    "            self.running_var = self.momentum * self.running_var + (1-self.momentum) * var            \n",
    "        else:\n",
    "            xc = x - self.running_mean\n",
    "            xn = xc / ((np.sqrt(self.running_var + 10e-7)))\n",
    "            \n",
    "        out = self.gamma * xn + self.beta \n",
    "        return out\n",
    "\n",
    "    def backward(self, dout):\n",
    "        if dout.ndim != 2:\n",
    "            N, C, H, W = dout.shape\n",
    "            dout = dout.reshape(N, -1)\n",
    "\n",
    "        dx = self.__backward(dout)\n",
    "\n",
    "        dx = dx.reshape(*self.input_shape)\n",
    "        return dx\n",
    "\n",
    "    def __backward(self, dout):\n",
    "        dbeta = dout.sum(axis=0)\n",
    "        dgamma = np.sum(self.xn * dout, axis=0)\n",
    "        dxn = self.gamma * dout\n",
    "        dxc = dxn / self.std\n",
    "        dstd = -np.sum((dxn * self.xc) / (self.std * self.std), axis=0)\n",
    "        dvar = 0.5 * dstd / self.std\n",
    "        dxc += (2.0 / self.batch_size) * self.xc * dvar\n",
    "        dmu = np.sum(dxc, axis=0)\n",
    "        dx = dxc - dmu / self.batch_size\n",
    "        \n",
    "        self.dgamma = dgamma\n",
    "        self.dbeta = dbeta\n",
    "        \n",
    "        return dx"
   ]
  },
  {
   "cell_type": "markdown",
   "id": "38c97eab",
   "metadata": {},
   "source": [
    "Dropout实现"
   ]
  },
  {
   "cell_type": "code",
   "execution_count": null,
   "id": "64c12faa",
   "metadata": {},
   "outputs": [],
   "source": [
    "class Dropout:\n",
    "    \"\"\"\n",
    "    http://arxiv.org/abs/1207.0580\n",
    "    \"\"\"\n",
    "    def __init__(self, dropout_ratio=0.5):\n",
    "        self.dropout_ratio = dropout_ratio\n",
    "        self.mask = None\n",
    "\n",
    "    def forward(self, x, train_flg=True):\n",
    "        if train_flg:\n",
    "            self.mask = np.random.rand(*x.shape) > self.dropout_ratio\n",
    "            return x * self.mask\n",
    "        else:\n",
    "            return x * (1.0 - self.dropout_ratio)\n",
    "\n",
    "    def backward(self, dout):\n",
    "        return dout * self.mask"
   ]
  },
  {
   "cell_type": "markdown",
   "id": "f030bf57",
   "metadata": {},
   "source": [
    "增加了BN和Dropout的多层感知机实现为"
   ]
  },
  {
   "cell_type": "markdown",
   "id": "20cd76a9",
   "metadata": {},
   "source": [
    "数据增强，原图像如下"
   ]
  },
  {
   "cell_type": "code",
   "execution_count": null,
   "id": "51fa09f7",
   "metadata": {},
   "outputs": [],
   "source": [
    "from PIL import Image\n",
    "import numpy as np\n",
    "import matplotlib.pyplot as plt\n",
    "\n",
    "img = Image.open('./dog.png')\n",
    "img = np.array(img)\n",
    "plt.imshow(img)\n",
    "plt.show()"
   ]
  },
  {
   "cell_type": "markdown",
   "id": "ef95d108",
   "metadata": {},
   "source": [
    "1. 对图片进行翻转"
   ]
  },
  {
   "cell_type": "code",
   "execution_count": null,
   "id": "92dc810a",
   "metadata": {},
   "outputs": [],
   "source": [
    "flipped_img = np.fliplr(img)\n",
    "plt.imshow(flipped_img)\n",
    "plt.show()"
   ]
  },
  {
   "cell_type": "markdown",
   "id": "f76e7774",
   "metadata": {},
   "source": [
    "2. 通过对图像进行平移，可以使得部分的原始图像被遮挡，有助于模型在无法看到完整图像的情况下做出预测"
   ]
  },
  {
   "cell_type": "code",
   "execution_count": null,
   "id": "ed241b81",
   "metadata": {},
   "outputs": [],
   "source": [
    "h, w = img.shape[:2]\n",
    "res = np.zeros(img.shape, img.dtype)\n",
    "for i in range(0, h):\n",
    "    for j in range(0, w-100):\n",
    "        res[i, j + 100] = img[i, j]\n",
    "\n",
    "plt.imshow(res)\n",
    "plt.show()"
   ]
  },
  {
   "cell_type": "markdown",
   "id": "901be85e",
   "metadata": {},
   "source": [
    "3. 通过向图片添加各类噪声，能够使得模型更加鲁棒"
   ]
  },
  {
   "cell_type": "code",
   "execution_count": null,
   "id": "e5bd4a9d",
   "metadata": {},
   "outputs": [],
   "source": [
    "# ADDING NOISE\n",
    "h, w, d = img.shape\n",
    "noise = np.random.randint(-20, high=20, \\\n",
    "\t\t\tsize = (h, w, d), dtype = 'int8')\n",
    "noisy_img = img\n",
    "for i in range(h):\n",
    "    for j in range(w):\n",
    "        for k in range(d):\n",
    "            if (noisy_img[i][j][k] != 255):\n",
    "                noisy_img[i][j][k] += noise[i][j][k]\n",
    "plt.imshow(noisy_img)\n",
    "plt.show()"
   ]
  },
  {
   "cell_type": "markdown",
   "id": "1f9b7420",
   "metadata": {},
   "source": [
    "4. 对图像实施0-360的旋转"
   ]
  },
  {
   "cell_type": "code",
   "execution_count": null,
   "id": "7183cc43",
   "metadata": {},
   "outputs": [],
   "source": [
    "import cv2\n",
    "def randomly_rotate_image(img):\n",
    "    \"\"\"\n",
    "    img:cv2 image, uint8 array\n",
    "    \"\"\"\n",
    "    h, w, c = img.shape\n",
    "    angle = 360 * np.random.random()\n",
    "    center = (w/2., h/2.)\n",
    "    M = cv2.getRotationMatrix2D(center, angle, 1.0)\n",
    "    _img = cv2.warpAffine(img, M, (w, h))\n",
    "    return _img\n",
    "\n",
    "rotated_img = randomly_rotate_image(img)\n",
    "plt.imshow(rotated_img)\n",
    "plt.show()"
   ]
  },
  {
   "cell_type": "markdown",
   "id": "033cef05",
   "metadata": {},
   "source": [
    "5. 随机调整饱和度与亮度"
   ]
  },
  {
   "cell_type": "code",
   "execution_count": null,
   "id": "7aa86ff9",
   "metadata": {},
   "outputs": [],
   "source": [
    "def randomly_brightness_and_contrast_adjust(img):\n",
    "    \"\"\"\n",
    "    img:cv2 image, uint8 array\n",
    "    \"\"\"\n",
    "    alpha = 0.5 + np.random.random()\n",
    "    beta = int(np.random.choice([-1, 1]) * np.random.random() * 255)\n",
    "    _img = np.uint8(np.clip(cv2.add(alpha * img, beta), 0, 255))\n",
    "    return _img\n",
    "\n",
    "new_img = randomly_brightness_and_contrast_adjust(img)\n",
    "plt.imshow(new_img)\n",
    "plt.show()"
   ]
  },
  {
   "cell_type": "code",
   "execution_count": null,
   "id": "5ae499ab",
   "metadata": {},
   "outputs": [],
   "source": []
  }
 ],
 "metadata": {
  "kernelspec": {
   "display_name": "Python 3",
   "language": "python",
   "name": "python3"
  },
  "language_info": {
   "codemirror_mode": {
    "name": "ipython",
    "version": 3
   },
   "file_extension": ".py",
   "mimetype": "text/x-python",
   "name": "python",
   "nbconvert_exporter": "python",
   "pygments_lexer": "ipython3",
   "version": "3.7.13"
  }
 },
 "nbformat": 4,
 "nbformat_minor": 5
}
